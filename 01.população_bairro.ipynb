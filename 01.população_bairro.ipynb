{
 "cells": [
  {
   "cell_type": "markdown",
   "metadata": {},
   "source": [
    "### Configurações"
   ]
  },
  {
   "cell_type": "code",
   "execution_count": 3,
   "metadata": {},
   "outputs": [
    {
     "name": "stdout",
     "output_type": "stream",
     "text": [
      "Requirement already satisfied: pandas in c:\\users\\joth1\\appdata\\local\\programs\\python\\python312\\lib\\site-packages (2.1.4)\n",
      "Requirement already satisfied: numpy<2,>=1.26.0 in c:\\users\\joth1\\appdata\\local\\programs\\python\\python312\\lib\\site-packages (from pandas) (1.26.1)\n",
      "Requirement already satisfied: python-dateutil>=2.8.2 in c:\\users\\joth1\\appdata\\local\\programs\\python\\python312\\lib\\site-packages (from pandas) (2.8.2)\n",
      "Requirement already satisfied: pytz>=2020.1 in c:\\users\\joth1\\appdata\\local\\programs\\python\\python312\\lib\\site-packages (from pandas) (2023.3.post1)\n",
      "Requirement already satisfied: tzdata>=2022.1 in c:\\users\\joth1\\appdata\\local\\programs\\python\\python312\\lib\\site-packages (from pandas) (2023.3)\n",
      "Requirement already satisfied: six>=1.5 in c:\\users\\joth1\\appdata\\local\\programs\\python\\python312\\lib\\site-packages (from python-dateutil>=2.8.2->pandas) (1.16.0)\n",
      "Note: you may need to restart the kernel to use updated packages.\n"
     ]
    },
    {
     "name": "stderr",
     "output_type": "stream",
     "text": [
      "\n",
      "[notice] A new release of pip is available: 23.2.1 -> 25.0.1\n",
      "[notice] To update, run: python.exe -m pip install --upgrade pip\n"
     ]
    },
    {
     "name": "stdout",
     "output_type": "stream",
     "text": [
      "Requirement already satisfied: numpy in c:\\users\\joth1\\appdata\\local\\programs\\python\\python312\\lib\\site-packages (1.26.1)Note: you may need to restart the kernel to use updated packages.\n",
      "\n"
     ]
    },
    {
     "name": "stderr",
     "output_type": "stream",
     "text": [
      "\n",
      "[notice] A new release of pip is available: 23.2.1 -> 25.0.1\n",
      "[notice] To update, run: python.exe -m pip install --upgrade pip\n"
     ]
    },
    {
     "name": "stdout",
     "output_type": "stream",
     "text": [
      "Collecting html5libNote: you may need to restart the kernel to use updated packages.\n",
      "\n",
      "  Obtaining dependency information for html5lib from https://files.pythonhosted.org/packages/6c/dd/a834df6482147d48e225a49515aabc28974ad5a4ca3215c18a882565b028/html5lib-1.1-py2.py3-none-any.whl.metadata\n",
      "  Downloading html5lib-1.1-py2.py3-none-any.whl.metadata (16 kB)\n",
      "Requirement already satisfied: six>=1.9 in c:\\users\\joth1\\appdata\\local\\programs\\python\\python312\\lib\\site-packages (from html5lib) (1.16.0)\n",
      "Requirement already satisfied: webencodings in c:\\users\\joth1\\appdata\\local\\programs\\python\\python312\\lib\\site-packages (from html5lib) (0.5.1)\n",
      "Downloading html5lib-1.1-py2.py3-none-any.whl (112 kB)\n",
      "   ---------------------------------------- 0.0/112.2 kB ? eta -:--:--\n",
      "   ------------------------------------ --- 102.4/112.2 kB 6.1 MB/s eta 0:00:01\n",
      "   ---------------------------------------- 112.2/112.2 kB 1.6 MB/s eta 0:00:00\n",
      "Installing collected packages: html5lib\n",
      "Successfully installed html5lib-1.1\n"
     ]
    },
    {
     "name": "stderr",
     "output_type": "stream",
     "text": [
      "\n",
      "[notice] A new release of pip is available: 23.2.1 -> 25.0.1\n",
      "[notice] To update, run: python.exe -m pip install --upgrade pip\n"
     ]
    }
   ],
   "source": [
    "%pip install pandas\n",
    "%pip install numpy\n",
    "%pip install html5lib"
   ]
  },
  {
   "cell_type": "code",
   "execution_count": 19,
   "metadata": {},
   "outputs": [
    {
     "name": "stdout",
     "output_type": "stream",
     "text": [
      "Requirement already satisfied: pandas in c:\\users\\joth1\\appdata\\local\\programs\\python\\python312\\lib\\site-packages (2.1.4)\n",
      "Requirement already satisfied: numpy<2,>=1.26.0 in c:\\users\\joth1\\appdata\\local\\programs\\python\\python312\\lib\\site-packages (from pandas) (1.26.1)\n",
      "Requirement already satisfied: python-dateutil>=2.8.2 in c:\\users\\joth1\\appdata\\local\\programs\\python\\python312\\lib\\site-packages (from pandas) (2.8.2)\n",
      "Requirement already satisfied: pytz>=2020.1 in c:\\users\\joth1\\appdata\\local\\programs\\python\\python312\\lib\\site-packages (from pandas) (2023.3.post1)\n",
      "Requirement already satisfied: tzdata>=2022.1 in c:\\users\\joth1\\appdata\\local\\programs\\python\\python312\\lib\\site-packages (from pandas) (2023.3)\n",
      "Requirement already satisfied: six>=1.5 in c:\\users\\joth1\\appdata\\local\\programs\\python\\python312\\lib\\site-packages (from python-dateutil>=2.8.2->pandas) (1.16.0)\n",
      "Note: you may need to restart the kernel to use updated packages.\n"
     ]
    },
    {
     "name": "stderr",
     "output_type": "stream",
     "text": [
      "\n",
      "[notice] A new release of pip is available: 23.2.1 -> 25.0.1\n",
      "[notice] To update, run: python.exe -m pip install --upgrade pip\n"
     ]
    },
    {
     "name": "stdout",
     "output_type": "stream",
     "text": [
      "Note: you may need to restart the kernel to use updated packages.\n"
     ]
    },
    {
     "name": "stderr",
     "output_type": "stream",
     "text": [
      "ERROR: Invalid requirement: '#'\n",
      "\n",
      "[notice] A new release of pip is available: 23.2.1 -> 25.0.1\n",
      "[notice] To update, run: python.exe -m pip install --upgrade pip\n"
     ]
    },
    {
     "name": "stdout",
     "output_type": "stream",
     "text": [
      "Requirement already satisfied: lxml in c:\\users\\joth1\\appdata\\local\\programs\\python\\python312\\lib\\site-packages (5.3.0)\n",
      "Note: you may need to restart the kernel to use updated packages.\n"
     ]
    },
    {
     "name": "stderr",
     "output_type": "stream",
     "text": [
      "\n",
      "[notice] A new release of pip is available: 23.2.1 -> 25.0.1\n",
      "[notice] To update, run: python.exe -m pip install --upgrade pip\n"
     ]
    },
    {
     "name": "stdout",
     "output_type": "stream",
     "text": [
      "Requirement already satisfied: numpy in c:\\users\\joth1\\appdata\\local\\programs\\python\\python312\\lib\\site-packages (1.26.1)Note: you may need to restart the kernel to use updated packages.\n",
      "\n"
     ]
    },
    {
     "name": "stderr",
     "output_type": "stream",
     "text": [
      "\n",
      "[notice] A new release of pip is available: 23.2.1 -> 25.0.1\n",
      "[notice] To update, run: python.exe -m pip install --upgrade pip\n",
      "C:\\Users\\joth1\\AppData\\Local\\Temp\\ipykernel_82616\\3751246778.py:18: FutureWarning: Passing literal html to 'read_html' is deprecated and will be removed in a future version. To read from a literal string, wrap it in a 'StringIO' object.\n",
      "  tabelas = pd.read_html(response.text\n"
     ]
    }
   ],
   "source": [
    "%pip install pandas\n",
    "%pip install requests  # Corrigido para 'requests'\n",
    "%pip install lxml\n",
    "%pip install numpy\n",
    "\n",
    "import numpy as np\n",
    "import pandas as pd\n",
    "import requests\n",
    "\n",
    "# URL da página com as tabelas\n",
    "url = 'https://pt.wikipedia.org/wiki/Lista_dos_distritos_de_S%C3%A3o_Paulo_por_popula%C3%A7%C3%A3o'\n",
    "\n",
    "# Baixar o conteúdo da página\n",
    "response = requests.get(url)\n",
    "\n",
    "# Verificar se a requisição foi bem-sucedida\n",
    "if response.status_code == 200:\n",
    "    tabelas = pd.read_html(response.text\n",
    "                        #    , header=1\n",
    "                           )  # Define a segunda linha como cabeçalho\n",
    "\n",
    "    # Dicionário para armazenar os DataFrames\n",
    "    dfs = {}\n",
    "\n",
    "    # Criar um DataFrame para cada tabela e armazenar no dicionário\n",
    "    for i, tabela in enumerate(tabelas):\n",
    "        nome_df = f'df{i+1}'\n",
    "        dfs[nome_df] = tabela\n",
    "else:\n",
    "    print(f\"Erro ao acessar a página: {response.status_code}\")"
   ]
  },
  {
   "cell_type": "code",
   "execution_count": 24,
   "metadata": {},
   "outputs": [
    {
     "data": {
      "text/html": [
       "<div>\n",
       "<style scoped>\n",
       "    .dataframe tbody tr th:only-of-type {\n",
       "        vertical-align: middle;\n",
       "    }\n",
       "\n",
       "    .dataframe tbody tr th {\n",
       "        vertical-align: top;\n",
       "    }\n",
       "\n",
       "    .dataframe thead th {\n",
       "        text-align: right;\n",
       "    }\n",
       "</style>\n",
       "<table border=\"1\" class=\"dataframe\">\n",
       "  <thead>\n",
       "    <tr style=\"text-align: right;\">\n",
       "      <th></th>\n",
       "      <th>Unnamed: 0</th>\n",
       "      <th>Distrito</th>\n",
       "      <th>Pop. Total 2022</th>\n",
       "      <th>Pop. Urb. 2022</th>\n",
       "      <th>Cidade</th>\n",
       "    </tr>\n",
       "  </thead>\n",
       "  <tbody>\n",
       "    <tr>\n",
       "      <th>0</th>\n",
       "      <td>1º</td>\n",
       "      <td>Grajaú</td>\n",
       "      <td>384873</td>\n",
       "      <td>382897</td>\n",
       "      <td>São Paulo</td>\n",
       "    </tr>\n",
       "    <tr>\n",
       "      <th>1</th>\n",
       "      <td>2º</td>\n",
       "      <td>Jardim Ângela</td>\n",
       "      <td>311432</td>\n",
       "      <td>311329</td>\n",
       "      <td>São Paulo</td>\n",
       "    </tr>\n",
       "    <tr>\n",
       "      <th>2</th>\n",
       "      <td>3º</td>\n",
       "      <td>Capão Redondo</td>\n",
       "      <td>270767</td>\n",
       "      <td>270767</td>\n",
       "      <td>São Paulo</td>\n",
       "    </tr>\n",
       "    <tr>\n",
       "      <th>3</th>\n",
       "      <td>4º</td>\n",
       "      <td>Sapopemba</td>\n",
       "      <td>266715</td>\n",
       "      <td>266715</td>\n",
       "      <td>São Paulo</td>\n",
       "    </tr>\n",
       "    <tr>\n",
       "      <th>4</th>\n",
       "      <td>5º</td>\n",
       "      <td>Sacomã</td>\n",
       "      <td>261436</td>\n",
       "      <td>261436</td>\n",
       "      <td>São Paulo</td>\n",
       "    </tr>\n",
       "    <tr>\n",
       "      <th>...</th>\n",
       "      <td>...</td>\n",
       "      <td>...</td>\n",
       "      <td>...</td>\n",
       "      <td>...</td>\n",
       "      <td>...</td>\n",
       "    </tr>\n",
       "    <tr>\n",
       "      <th>91</th>\n",
       "      <td>92º</td>\n",
       "      <td>Barra Funda</td>\n",
       "      <td>33436</td>\n",
       "      <td>33436</td>\n",
       "      <td>São Paulo</td>\n",
       "    </tr>\n",
       "    <tr>\n",
       "      <th>92</th>\n",
       "      <td>93º</td>\n",
       "      <td>Jaguara</td>\n",
       "      <td>24730</td>\n",
       "      <td>24730</td>\n",
       "      <td>São Paulo</td>\n",
       "    </tr>\n",
       "    <tr>\n",
       "      <th>93</th>\n",
       "      <td>94º</td>\n",
       "      <td>Sé</td>\n",
       "      <td>23832</td>\n",
       "      <td>23832</td>\n",
       "      <td>São Paulo</td>\n",
       "    </tr>\n",
       "    <tr>\n",
       "      <th>94</th>\n",
       "      <td>95º</td>\n",
       "      <td>Pari</td>\n",
       "      <td>17359</td>\n",
       "      <td>17359</td>\n",
       "      <td>São Paulo</td>\n",
       "    </tr>\n",
       "    <tr>\n",
       "      <th>95</th>\n",
       "      <td>96º</td>\n",
       "      <td>Marsilac</td>\n",
       "      <td>11451</td>\n",
       "      <td>6652</td>\n",
       "      <td>São Paulo</td>\n",
       "    </tr>\n",
       "  </tbody>\n",
       "</table>\n",
       "<p>96 rows × 5 columns</p>\n",
       "</div>"
      ],
      "text/plain": [
       "   Unnamed: 0       Distrito  Pop. Total 2022  Pop. Urb. 2022     Cidade\n",
       "0          1º         Grajaú           384873          382897  São Paulo\n",
       "1          2º  Jardim Ângela           311432          311329  São Paulo\n",
       "2          3º  Capão Redondo           270767          270767  São Paulo\n",
       "3          4º      Sapopemba           266715          266715  São Paulo\n",
       "4          5º         Sacomã           261436          261436  São Paulo\n",
       "..        ...            ...              ...             ...        ...\n",
       "91        92º    Barra Funda            33436           33436  São Paulo\n",
       "92        93º        Jaguara            24730           24730  São Paulo\n",
       "93        94º             Sé            23832           23832  São Paulo\n",
       "94        95º           Pari            17359           17359  São Paulo\n",
       "95        96º       Marsilac            11451            6652  São Paulo\n",
       "\n",
       "[96 rows x 5 columns]"
      ]
     },
     "execution_count": 24,
     "metadata": {},
     "output_type": "execute_result"
    }
   ],
   "source": [
    "# display(dfs['df2'])\n",
    "df = dfs['df2'].copy()\n",
    "df['Cidade'] = 'São Paulo'\n",
    "df"
   ]
  },
  {
   "cell_type": "code",
   "execution_count": 25,
   "metadata": {},
   "outputs": [],
   "source": [
    "# Divisão dos bairros nas 4 zonas de São Paulo\n",
    "\n",
    "# Zona Leste\n",
    "zona_leste = [\n",
    "    'Grajaú', 'Jardim Ângela', 'Capão Redondo', 'Sapopemba', 'Sacomã', \n",
    "    'Jardim São Luís', 'Cidade Ademar', 'Brasilândia', 'Campo Limpo', \n",
    "    'Itaquera', 'Itaim Paulista', 'Tremembé', 'Cidade Tiradentes', \n",
    "    'Cidade Dutra', 'Pirituba', 'Vila Andrade', 'Lajeado', 'Pedreira', \n",
    "    'São Mateus', 'Parelheiros', 'Iguatemi', 'São Rafael', 'Cachoeirinha', \n",
    "    'Cangaíba', 'Vila Curuçá', 'São Lucas', 'Freguesia do Ó', 'Cidade Líder', \n",
    "    'Vila Jacuí', 'Penha', 'Rio Pequeno', 'Jardim Helena', 'Saúde', \n",
    "    'José Bonifácio', 'Vila Mariana', 'Vila Sônia', 'Raposo Tavares', \n",
    "    'Ipiranga', 'Campo Grande', 'Santana', 'Vila Medeiros', 'Ermelino Matarazzo', \n",
    "    'Guaianases', 'Vila Maria', 'Vila Prudente', 'Mandaqui', 'Vila Matilde', \n",
    "    'Cursino', 'Perdizes', 'Itaim Bibi', 'Tucuruvi', 'Tatuapé', 'Artur Alvim', \n",
    "    'Vila Formosa', 'Ponte Rasa', 'Aricanduva', 'São Domingos', 'Perus', \n",
    "    'Jaçanã', 'Água Rasa'\n",
    "]\n",
    "\n",
    "# Zona Sul\n",
    "zona_sul = [\n",
    "    'Santo Amaro', 'Carrão', 'Limão', 'Moema', 'Jardim Paulista', \n",
    "    'São Miguel', 'Santa Cecília', 'Mooca', 'Casa Verde', 'Lapa', \n",
    "    'Anhanguera', 'Parque do Carmo', 'Campo Belo', 'Liberdade', 'Pinheiros', \n",
    "    'República', 'Bela Vista', 'Belém', 'Jaguaré', 'Consolação', \n",
    "    'Vila Guilherme', 'Butantã', 'Vila Leopoldina', 'Cambuci', 'Morumbi', \n",
    "    'Brás', 'Socorro', 'Alto de Pinheiros', 'Bom Retiro', 'Barra Funda', \n",
    "    'Jaguara', 'Sé', 'Pari', 'Marsilac'\n",
    "]\n",
    "\n",
    "# Zona Norte\n",
    "zona_norte = [\n",
    "    'Jaçanã', 'Água Rasa', 'Vila Maria', 'Vila Prudente', 'Mandaqui',\n",
    "    'Vila Matilde', 'Cursino', 'Perdizes', 'Itaim Bibi', 'Tucuruvi', \n",
    "    'Tatuapé', 'Artur Alvim', 'Vila Formosa', 'Ponte Rasa', 'Aricanduva', \n",
    "    'São Domingos', 'Perus'\n",
    "]\n",
    "\n",
    "# Zona Oeste\n",
    "zona_oeste = [\n",
    "    'Vila Andrade', 'Lajeado', 'Pedreira', 'São Mateus', 'Parelheiros', \n",
    "    'Iguatemi', 'São Rafael', 'Cachoeirinha', 'Cangaíba', 'Vila Curuçá', \n",
    "    'São Lucas', 'Freguesia do Ó', 'Cidade Líder', 'Vila Jacuí', 'Penha', \n",
    "    'Rio Pequeno', 'Jardim Helena', 'Saúde', 'José Bonifácio', 'Vila Mariana', \n",
    "    'Vila Sônia', 'Raposo Tavares', 'Ipiranga', 'Campo Grande', 'Santana', \n",
    "    'Vila Medeiros', 'Ermelino Matarazzo', 'Guaianases', 'Vila Maria', 'Vila Prudente',\n",
    "    'Mandaqui', 'Vila Matilde', 'Cursino', 'Perdizes', 'Itaim Bibi', 'Tucuruvi', \n",
    "    'Tatuapé', 'Artur Alvim', 'Vila Formosa', 'Ponte Rasa', 'Aricanduva', 'São Domingos', \n",
    "    'Perus', 'Jaçanã', 'Água Rasa', 'Santo Amaro', 'Carrão', 'Limão', 'Moema', \n",
    "    'Jardim Paulista', 'São Miguel', 'Santa Cecília', 'Mooca', 'Casa Verde', 'Lapa', \n",
    "    'Anhanguera', 'Parque do Carmo', 'Campo Belo', 'Liberdade', 'Pinheiros', 'República', \n",
    "    'Bela Vista', 'Belém', 'Jaguaré', 'Consolação', 'Vila Guilherme', 'Butantã', \n",
    "    'Vila Leopoldina', 'Cambuci', 'Morumbi', 'Brás', 'Socorro', 'Alto de Pinheiros', \n",
    "    'Bom Retiro', 'Barra Funda', 'Jaguara', 'Sé', 'Pari', 'Marsilac'\n",
    "]\n",
    "\n",
    "\n",
    "df['ds_zona_sp'] = np.where(\n",
    "        df['Distrito'].isin(zona_leste), 'Zona Leste'\n",
    "        ,np.where(\n",
    "            df['Distrito'].isin(zona_oeste), 'Zona Oeste'\n",
    "            ,np.where(\n",
    "            df['Distrito'].isin(zona_norte), 'Zona Norte'\n",
    "            , np.where(\n",
    "                df['Distrito'].isin(zona_sul), 'Zona Sul'\n",
    "                , 'Outros')\n",
    "            )\n",
    "    )\n",
    ")"
   ]
  },
  {
   "cell_type": "code",
   "execution_count": 23,
   "metadata": {},
   "outputs": [
    {
     "data": {
      "text/plain": [
       "array(['Zona Leste', 'Zona Leste', 'Zona Leste', 'Zona Leste',\n",
       "       'Zona Leste', 'Zona Leste', 'Zona Leste', 'Zona Leste',\n",
       "       'Zona Leste', 'Outros', 'Outros', 'Zona Leste', 'Zona Leste',\n",
       "       'Zona Leste', 'Zona Leste', 'Zona Leste', 'Zona Leste',\n",
       "       'Zona Leste', 'Zona Leste', 'Zona Leste', 'Zona Leste',\n",
       "       'Zona Leste', 'Zona Leste', 'Zona Leste', 'Zona Leste',\n",
       "       'Zona Leste', 'Zona Leste', 'Zona Leste', 'Zona Leste',\n",
       "       'Zona Leste', 'Zona Leste', 'Zona Leste', 'Zona Leste',\n",
       "       'Zona Leste', 'Zona Leste', 'Zona Leste', 'Zona Leste',\n",
       "       'Zona Leste', 'Zona Leste', 'Zona Leste', 'Zona Leste',\n",
       "       'Zona Leste', 'Zona Leste', 'Zona Leste', 'Zona Leste',\n",
       "       'Zona Leste', 'Zona Leste', 'Zona Leste', 'Zona Leste',\n",
       "       'Zona Leste', 'Zona Leste', 'Zona Leste', 'Zona Leste',\n",
       "       'Zona Leste', 'Zona Leste', 'Zona Leste', 'Zona Leste',\n",
       "       'Zona Leste', 'Zona Leste', 'Zona Leste', 'Zona Leste',\n",
       "       'Zona Leste', 'Zona Oeste', 'Zona Oeste', 'Zona Oeste',\n",
       "       'Zona Oeste', 'Zona Oeste', 'Zona Oeste', 'Zona Oeste',\n",
       "       'Zona Oeste', 'Zona Oeste', 'Zona Oeste', 'Zona Oeste',\n",
       "       'Zona Oeste', 'Zona Oeste', 'Zona Oeste', 'Zona Oeste',\n",
       "       'Zona Oeste', 'Zona Oeste', 'Zona Oeste', 'Zona Oeste',\n",
       "       'Zona Oeste', 'Zona Oeste', 'Zona Oeste', 'Zona Oeste',\n",
       "       'Zona Oeste', 'Zona Oeste', 'Zona Oeste', 'Zona Oeste',\n",
       "       'Zona Oeste', 'Zona Oeste', 'Zona Oeste', 'Zona Oeste',\n",
       "       'Zona Oeste', 'Zona Oeste', 'Zona Oeste'], dtype='<U10')"
      ]
     },
     "metadata": {},
     "output_type": "display_data"
    }
   ],
   "source": [
    "display(df)"
   ]
  },
  {
   "cell_type": "code",
   "execution_count": null,
   "metadata": {},
   "outputs": [],
   "source": []
  }
 ],
 "metadata": {
  "kernelspec": {
   "display_name": "Python 3",
   "language": "python",
   "name": "python3"
  },
  "language_info": {
   "codemirror_mode": {
    "name": "ipython",
    "version": 3
   },
   "file_extension": ".py",
   "mimetype": "text/x-python",
   "name": "python",
   "nbconvert_exporter": "python",
   "pygments_lexer": "ipython3",
   "version": "3.12.0"
  }
 },
 "nbformat": 4,
 "nbformat_minor": 2
}
