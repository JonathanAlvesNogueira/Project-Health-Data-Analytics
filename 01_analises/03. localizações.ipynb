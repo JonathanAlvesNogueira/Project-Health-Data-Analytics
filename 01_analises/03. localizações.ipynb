{
 "cells": [
  {
   "cell_type": "code",
   "execution_count": null,
   "metadata": {},
   "outputs": [],
   "source": [
    "from geopy.geocoders import Nominatim\n",
    "import time\n",
    "\n",
    "# Inicializando o geolocalizador\n",
    "geolocator = Nominatim(user_agent=\"meu_aplicativo\")\n",
    "\n",
    "# Lista de bairros ou regiões de São Paulo\n",
    "bairros = [\n",
    "    \"Centro\", \"Zona Leste\", \"Zona Oeste\", \"Zona Sul\", \"Zona Norte\", \"Itaquera\", \"Cidade Tiradentes\",\n",
    "    \"Penha\", \"Vila Curuçá\", \"Sapopemba\", \"São Mateus\", \"Itaim Paulista\", \"São Rafael\", \"Lajeado\",\n",
    "    \"São Miguel\", \"Parque do Carmo\", \"Artur Alvim\", \"Vila Prudente\", \"Vila Formosa\", \"Tatuapé\", \"Mooca\"\n",
    "]\n",
    "\n",
    "# Função para buscar SAMU em diferentes bairros de São Paulo\n",
    "def buscar_samus_em_sao_paulo(bairros):\n",
    "    resultados = []\n",
    "    for bairro in bairros:\n",
    "        print(f\"Buscando SAMU em {bairro}...\")\n",
    "        try:\n",
    "            localizacao = geolocator.geocode(f\"Centro Cultural {bairro}\")\n",
    "            if localizacao:\n",
    "                resultados.append({\n",
    "                    'bairro': bairro,\n",
    "                    'nome': localizacao.address,\n",
    "                    'latitude': localizacao.latitude,\n",
    "                    'longitude': localizacao.longitude\n",
    "                })\n",
    "            else:\n",
    "                print(f\"Não encontrado no bairro: {bairro}\")\n",
    "        except Exception as e:\n",
    "            print(f\"Erro ao buscar em {bairro}: {e}\")\n",
    "        \n",
    "        # Para evitar excesso de requisições, vamos esperar um pouco entre as buscas\n",
    "        time.sleep(1)\n",
    "    \n",
    "    return resultados\n",
    "\n",
    "# Exemplo de busca\n",
    "resultados_samu = buscar_samus_em_sao_paulo(bairros)\n",
    "\n",
    "# Exibir os resultados\n",
    "if resultados_samu:\n",
    "    for resultado in resultados_samu:\n",
    "        print(f\"\\nBairro: {resultado['bairro']}\")\n",
    "        print(f\"Nome: {resultado['nome']}\")\n",
    "        print(f\"Localização: {resultado['latitude']}, {resultado['longitude']}\")\n",
    "else:\n",
    "    print(\"Nenhuma unidade do SAMU encontrada.\")\n"
   ]
  }
 ],
 "metadata": {
  "language_info": {
   "name": "python"
  }
 },
 "nbformat": 4,
 "nbformat_minor": 2
}
